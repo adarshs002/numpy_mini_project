{
  "nbformat": 4,
  "nbformat_minor": 0,
  "metadata": {
    "colab": {
      "name": "Numpy_mini_project.ipynb",
      "provenance": [],
      "authorship_tag": "ABX9TyNaPWDSNiydnvcFljnq2rmX",
      "include_colab_link": true
    },
    "kernelspec": {
      "name": "python3",
      "display_name": "Python 3"
    },
    "language_info": {
      "name": "python"
    }
  },
  "cells": [
    {
      "cell_type": "markdown",
      "metadata": {
        "id": "view-in-github",
        "colab_type": "text"
      },
      "source": [
        "<a href=\"https://colab.research.google.com/github/adarshs002/numpy_mini_project/blob/main/Numpy_mini_project.ipynb\" target=\"_parent\"><img src=\"https://colab.research.google.com/assets/colab-badge.svg\" alt=\"Open In Colab\"/></a>"
      ]
    },
    {
      "cell_type": "markdown",
      "source": [
        "# MINI PROJECT"
      ],
      "metadata": {
        "id": "8hX6p32i41kF"
      }
    },
    {
      "cell_type": "markdown",
      "source": [
        "**Step 1 : Read the Data!**"
      ],
      "metadata": {
        "id": "CnR_f9ba4_u-"
      }
    },
    {
      "cell_type": "code",
      "execution_count": 30,
      "metadata": {
        "colab": {
          "base_uri": "https://localhost:8080/"
        },
        "id": "U3WD-tcB4ijR",
        "outputId": "79ce4d13-c5dd-49eb-9389-330b2b61a04e"
      },
      "outputs": [
        {
          "output_type": "stream",
          "name": "stdout",
          "text": [
            "\n",
            "Data: \n",
            "\n",
            " [[39. 13.  4. ...  0. 40.  0.]\n",
            " [50. 13.  4. ...  0. 13.  0.]\n",
            " [38.  9.  4. ...  0. 40.  0.]\n",
            " ...\n",
            " [48. 13.  4. ...  0. 58.  1.]\n",
            " [40. 10.  4. ...  0. 40.  0.]\n",
            " [39. 13.  4. ...  0. 50.  1.]]\n"
          ]
        }
      ],
      "source": [
        "import numpy as np\n",
        "data = np.genfromtxt('/content/makeSenseOfCensus.csv', delimiter=\",\", skip_header=1)\n",
        "\n",
        "# printing the data\n",
        "\n",
        "print(\"\\nData: \\n\\n\", data)"
      ]
    },
    {
      "cell_type": "code",
      "source": [
        "print(\"\\nType of data: \\n\\n\", type(data))"
      ],
      "metadata": {
        "colab": {
          "base_uri": "https://localhost:8080/"
        },
        "id": "ZJtfahSN5ePt",
        "outputId": "0ed93938-0994-404e-84d4-576be363a605"
      },
      "execution_count": 31,
      "outputs": [
        {
          "output_type": "stream",
          "name": "stdout",
          "text": [
            "\n",
            "Type of data: \n",
            "\n",
            " <class 'numpy.ndarray'>\n"
          ]
        }
      ]
    },
    {
      "cell_type": "markdown",
      "source": [
        "**Step 2 : Append the Data**"
      ],
      "metadata": {
        "id": "RYV3w8m35iQg"
      }
    },
    {
      "cell_type": "code",
      "source": [
        "import numpy as np\n",
        "new_record = np.array([[50, 9, 4, 1, 0, 0, 40, 0]])\n",
        "concatenated_data = np.concatenate((data, new_record), axis = 0)\n",
        "print(concatenated_data)"
      ],
      "metadata": {
        "colab": {
          "base_uri": "https://localhost:8080/"
        },
        "id": "GAfFlcjW5m6A",
        "outputId": "4e63a7a8-55f9-4a7c-ae93-c98e66a547d2"
      },
      "execution_count": 32,
      "outputs": [
        {
          "output_type": "stream",
          "name": "stdout",
          "text": [
            "[[39. 13.  4. ...  0. 40.  0.]\n",
            " [50. 13.  4. ...  0. 13.  0.]\n",
            " [38.  9.  4. ...  0. 40.  0.]\n",
            " ...\n",
            " [40. 10.  4. ...  0. 40.  0.]\n",
            " [39. 13.  4. ...  0. 50.  1.]\n",
            " [50.  9.  4. ...  0. 40.  0.]]\n"
          ]
        }
      ]
    },
    {
      "cell_type": "markdown",
      "source": [
        "**Step 3 : Check if it's a young country or old country**"
      ],
      "metadata": {
        "id": "f_cmpfJK5vDy"
      }
    },
    {
      "cell_type": "code",
      "source": [
        "age = (concatenated_data[:,0])\n",
        "print(age)\n",
        "print(\"--------------------------\")\n",
        "max_age = age.max()\n",
        "print(\"MAXIMUM AGE\",max_age)\n",
        "print(\"--------------------------\")\n",
        "min_age = age.min()\n",
        "print(\"MINIMUM AGE\",min_age)\n",
        "print(\"--------------------------\")\n",
        "age_mean = age.mean()\n",
        "print(\"MEAN AGE\",age_mean)\n",
        "print(\"--------------------------\")\n",
        "age_std = np.std(age)\n",
        "print(\"STANDARD DEVIATION\",age_std)\n"
      ],
      "metadata": {
        "colab": {
          "base_uri": "https://localhost:8080/"
        },
        "id": "CXHvIphl500d",
        "outputId": "ecc7461b-2b59-4a38-f72f-f7621c5e88b2"
      },
      "execution_count": 33,
      "outputs": [
        {
          "output_type": "stream",
          "name": "stdout",
          "text": [
            "[39. 50. 38. ... 40. 39. 50.]\n",
            "--------------------------\n",
            "MAXIMUM AGE 90.0\n",
            "--------------------------\n",
            "MINIMUM AGE 17.0\n",
            "--------------------------\n",
            "MEAN AGE 38.06293706293706\n",
            "--------------------------\n",
            "STANDARD DEVIATION 13.341478176165857\n"
          ]
        }
      ]
    },
    {
      "cell_type": "markdown",
      "source": [
        "**Step 4: Let's check the country's race distribution to identify the minorities**"
      ],
      "metadata": {
        "id": "Bhun4uXl6EmL"
      }
    },
    {
      "cell_type": "code",
      "source": [
        "race = concatenated_data[:,2]\n",
        "race_0 = race[race == 0]\n",
        "print(race_0)\n",
        "print(\"--------------------------\")\n",
        "race_1 = race[race == 1]\n",
        "print(race_1)\n",
        "print(\"--------------------------\")\n",
        "race_2 = race[race == 2]\n",
        "print(race_2)\n",
        "print(\"--------------------------\")\n",
        "race_3 = race[race == 3]\n",
        "print(race_3)\n",
        "print(\"--------------------------\")\n",
        "race_4 = race[race == 4]\n",
        "print(race_4)\n",
        "print(\"--------------------------\")\n",
        "print(\"-----------CHECKING TEH LENGTH-------------\")\n",
        "len_0 = len(race_0)\n",
        "len_1 = len(race_1)\n",
        "len_2 = len(race_2)\n",
        "len_3 = len(race_3)\n",
        "len_4 = len(race_4)\n",
        "\n",
        "print(\"race_0 : \",len_0)\n",
        "print(\"race_1 : \",len_1)\n",
        "print(\"race_2 : \",len_2)\n",
        "print(\"race_3 : \",len_3)\n",
        "print(\"race_4 : \",len_4)\n",
        "\n",
        "l = []\n",
        "l.append(len_0)\n",
        "l.append(len_1)\n",
        "l.append(len_2)\n",
        "l.append(len_3)\n",
        "l.append(len_4)\n",
        "# print(l)\n",
        "# print(len_0)\n",
        "minority_race = min(l)\n",
        "if len_0 == minority_race:\n",
        "  print(\"race with the minimum no. of citizens is race_0\")\n",
        "elif len_1 == minority_race:\n",
        "  print(\"race with the minimum no. of citizens is race_1\") \n",
        "elif len_2 == minority_race:\n",
        "  print(\"race with the minimum no. of citizens is race_1\")\n",
        "elif len_3 == minority_race:\n",
        "  print(\"race with the minimum no. of citizens is race_3\")\n",
        "elif len_4 == minority_race:\n",
        "  print(\"race with the minimum no. of citizens is race_4\")   \n",
        "print(\"MINORITY RACE :  \", minority_race)"
      ],
      "metadata": {
        "colab": {
          "base_uri": "https://localhost:8080/"
        },
        "id": "iq5xN5s36JgM",
        "outputId": "e4ff8984-ecf9-403d-ffba-0cc3123947fe"
      },
      "execution_count": 34,
      "outputs": [
        {
          "output_type": "stream",
          "name": "stdout",
          "text": [
            "[0. 0. 0. 0. 0. 0. 0. 0. 0. 0.]\n",
            "--------------------------\n",
            "[1. 1. 1. 1. 1. 1. 1. 1. 1. 1. 1. 1. 1. 1. 1. 1. 1. 1. 1. 1. 1. 1. 1. 1.\n",
            " 1. 1. 1.]\n",
            "--------------------------\n",
            "[2. 2. 2. 2. 2. 2. 2. 2. 2. 2. 2. 2. 2. 2. 2. 2. 2. 2. 2. 2. 2. 2. 2. 2.\n",
            " 2. 2. 2. 2. 2. 2. 2. 2. 2. 2. 2. 2. 2. 2. 2. 2. 2. 2. 2. 2. 2. 2. 2. 2.\n",
            " 2. 2. 2. 2. 2. 2. 2. 2. 2. 2. 2. 2. 2. 2. 2. 2. 2. 2. 2. 2. 2. 2. 2. 2.\n",
            " 2. 2. 2. 2. 2. 2. 2. 2. 2. 2. 2. 2. 2. 2. 2. 2. 2. 2. 2. 2. 2. 2. 2. 2.\n",
            " 2. 2. 2. 2. 2. 2. 2. 2. 2. 2. 2. 2. 2. 2.]\n",
            "--------------------------\n",
            "[3. 3. 3. 3. 3. 3.]\n",
            "--------------------------\n",
            "[4. 4. 4. 4. 4. 4. 4. 4. 4. 4. 4. 4. 4. 4. 4. 4. 4. 4. 4. 4. 4. 4. 4. 4.\n",
            " 4. 4. 4. 4. 4. 4. 4. 4. 4. 4. 4. 4. 4. 4. 4. 4. 4. 4. 4. 4. 4. 4. 4. 4.\n",
            " 4. 4. 4. 4. 4. 4. 4. 4. 4. 4. 4. 4. 4. 4. 4. 4. 4. 4. 4. 4. 4. 4. 4. 4.\n",
            " 4. 4. 4. 4. 4. 4. 4. 4. 4. 4. 4. 4. 4. 4. 4. 4. 4. 4. 4. 4. 4. 4. 4. 4.\n",
            " 4. 4. 4. 4. 4. 4. 4. 4. 4. 4. 4. 4. 4. 4. 4. 4. 4. 4. 4. 4. 4. 4. 4. 4.\n",
            " 4. 4. 4. 4. 4. 4. 4. 4. 4. 4. 4. 4. 4. 4. 4. 4. 4. 4. 4. 4. 4. 4. 4. 4.\n",
            " 4. 4. 4. 4. 4. 4. 4. 4. 4. 4. 4. 4. 4. 4. 4. 4. 4. 4. 4. 4. 4. 4. 4. 4.\n",
            " 4. 4. 4. 4. 4. 4. 4. 4. 4. 4. 4. 4. 4. 4. 4. 4. 4. 4. 4. 4. 4. 4. 4. 4.\n",
            " 4. 4. 4. 4. 4. 4. 4. 4. 4. 4. 4. 4. 4. 4. 4. 4. 4. 4. 4. 4. 4. 4. 4. 4.\n",
            " 4. 4. 4. 4. 4. 4. 4. 4. 4. 4. 4. 4. 4. 4. 4. 4. 4. 4. 4. 4. 4. 4. 4. 4.\n",
            " 4. 4. 4. 4. 4. 4. 4. 4. 4. 4. 4. 4. 4. 4. 4. 4. 4. 4. 4. 4. 4. 4. 4. 4.\n",
            " 4. 4. 4. 4. 4. 4. 4. 4. 4. 4. 4. 4. 4. 4. 4. 4. 4. 4. 4. 4. 4. 4. 4. 4.\n",
            " 4. 4. 4. 4. 4. 4. 4. 4. 4. 4. 4. 4. 4. 4. 4. 4. 4. 4. 4. 4. 4. 4. 4. 4.\n",
            " 4. 4. 4. 4. 4. 4. 4. 4. 4. 4. 4. 4. 4. 4. 4. 4. 4. 4. 4. 4. 4. 4. 4. 4.\n",
            " 4. 4. 4. 4. 4. 4. 4. 4. 4. 4. 4. 4. 4. 4. 4. 4. 4. 4. 4. 4. 4. 4. 4. 4.\n",
            " 4. 4. 4. 4. 4. 4. 4. 4. 4. 4. 4. 4. 4. 4. 4. 4. 4. 4. 4. 4. 4. 4. 4. 4.\n",
            " 4. 4. 4. 4. 4. 4. 4. 4. 4. 4. 4. 4. 4. 4. 4. 4. 4. 4. 4. 4. 4. 4. 4. 4.\n",
            " 4. 4. 4. 4. 4. 4. 4. 4. 4. 4. 4. 4. 4. 4. 4. 4. 4. 4. 4. 4. 4. 4. 4. 4.\n",
            " 4. 4. 4. 4. 4. 4. 4. 4. 4. 4. 4. 4. 4. 4. 4. 4. 4. 4. 4. 4. 4. 4. 4. 4.\n",
            " 4. 4. 4. 4. 4. 4. 4. 4. 4. 4. 4. 4. 4. 4. 4. 4. 4. 4. 4. 4. 4. 4. 4. 4.\n",
            " 4. 4. 4. 4. 4. 4. 4. 4. 4. 4. 4. 4. 4. 4. 4. 4. 4. 4. 4. 4. 4. 4. 4. 4.\n",
            " 4. 4. 4. 4. 4. 4. 4. 4. 4. 4. 4. 4. 4. 4. 4. 4. 4. 4. 4. 4. 4. 4. 4. 4.\n",
            " 4. 4. 4. 4. 4. 4. 4. 4. 4. 4. 4. 4. 4. 4. 4. 4. 4. 4. 4. 4. 4. 4. 4. 4.\n",
            " 4. 4. 4. 4. 4. 4. 4. 4. 4. 4. 4. 4. 4. 4. 4. 4. 4. 4. 4. 4. 4. 4. 4. 4.\n",
            " 4. 4. 4. 4. 4. 4. 4. 4. 4. 4. 4. 4. 4. 4. 4. 4. 4. 4. 4. 4. 4. 4. 4. 4.\n",
            " 4. 4. 4. 4. 4. 4. 4. 4. 4. 4. 4. 4. 4. 4. 4. 4. 4. 4. 4. 4. 4. 4. 4. 4.\n",
            " 4. 4. 4. 4. 4. 4. 4. 4. 4. 4. 4. 4. 4. 4. 4. 4. 4. 4. 4. 4. 4. 4. 4. 4.\n",
            " 4. 4. 4. 4. 4. 4. 4. 4. 4. 4. 4. 4. 4. 4. 4. 4. 4. 4. 4. 4. 4. 4. 4. 4.\n",
            " 4. 4. 4. 4. 4. 4. 4. 4. 4. 4. 4. 4. 4. 4. 4. 4. 4. 4. 4. 4. 4. 4. 4. 4.\n",
            " 4. 4. 4. 4. 4. 4. 4. 4. 4. 4. 4. 4. 4. 4. 4. 4. 4. 4. 4. 4. 4. 4. 4. 4.\n",
            " 4. 4. 4. 4. 4. 4. 4. 4. 4. 4. 4. 4. 4. 4. 4. 4. 4. 4. 4. 4. 4. 4. 4. 4.\n",
            " 4. 4. 4. 4. 4. 4. 4. 4. 4. 4. 4. 4. 4. 4. 4. 4. 4. 4. 4. 4. 4. 4. 4. 4.\n",
            " 4. 4. 4. 4. 4. 4. 4. 4. 4. 4. 4. 4. 4. 4. 4. 4. 4. 4. 4. 4. 4. 4. 4. 4.\n",
            " 4. 4. 4. 4. 4. 4. 4. 4. 4. 4. 4. 4. 4. 4. 4. 4. 4. 4. 4. 4. 4. 4. 4. 4.\n",
            " 4. 4. 4. 4. 4. 4. 4. 4. 4. 4. 4. 4. 4. 4. 4. 4. 4. 4. 4. 4. 4. 4. 4. 4.\n",
            " 4. 4. 4. 4. 4. 4. 4. 4.]\n",
            "--------------------------\n",
            "-----------CHECKING TEH LENGTH-------------\n",
            "race_0 :  10\n",
            "race_1 :  27\n",
            "race_2 :  110\n",
            "race_3 :  6\n",
            "race_4 :  848\n",
            "race with the minimum no. of citizens is race_3\n",
            "MINORITY RACE :   6\n"
          ]
        }
      ]
    },
    {
      "cell_type": "markdown",
      "source": [
        "**Step 5: As per govt. records citizens above 60 should not work more than 25 hours a week. Let us check if the policy is in place** "
      ],
      "metadata": {
        "id": "A3vimYNQLV6_"
      }
    },
    {
      "cell_type": "code",
      "source": [
        "senior_citizens = age[age>60]\n",
        "\n",
        "print(\"SENIOR CITIZENS : \", senior_citizens)\n",
        "print(\"--------------------------\")\n",
        "senior_working_hours = concatenated_data[:,6]\n",
        "a = senior_working_hours[age>60]\n",
        "print(\"Senior Citizen Working hours\", a)\n",
        "working_hours_sum = a.sum()\n",
        "print(\"--------------------------\")\n",
        "print(\"Sum of Working Huours of Seniors:\",working_hours_sum)\n",
        "senior_citizens_len = len(senior_citizens)\n",
        "print(\"Length of Senior Citizens:\", senior_citizens_len )\n",
        "average_working_hours = working_hours_sum/senior_citizens_len\n",
        "print(\"Average working hours of Senior Citizens: \", average_working_hours)"
      ],
      "metadata": {
        "colab": {
          "base_uri": "https://localhost:8080/"
        },
        "id": "WPzheiZb6lpT",
        "outputId": "11ded9d7-8aa0-4e02-9a33-7061e172ace0"
      },
      "execution_count": 35,
      "outputs": [
        {
          "output_type": "stream",
          "name": "stdout",
          "text": [
            "SENIOR CITIZENS :  [79. 67. 76. 61. 70. 64. 71. 68. 66. 64. 90. 66. 75. 65. 64. 61. 65. 77.\n",
            " 62. 76. 63. 66. 67. 65. 62. 63. 80. 67. 63. 72. 62. 74. 67. 72. 69. 65.\n",
            " 65. 71. 70. 66. 65. 61. 61. 68. 64. 64. 62. 73. 72. 63. 62. 61. 71. 63.\n",
            " 63. 67. 81. 64. 67. 78. 63.]\n",
            "--------------------------\n",
            "Senior Citizen Working hours [20.  2. 40. 40. 40. 40.  2. 20. 20. 40. 40. 50. 20. 40. 40. 40. 16. 40.\n",
            " 24. 10. 45. 55.  8. 40. 40. 40. 24. 24. 35. 20. 40.  9. 48. 40. 40. 30.\n",
            " 24. 15. 15.  4. 59. 50. 40. 20. 40. 45. 40. 40. 24.  6. 48. 40. 40. 15.\n",
            " 55. 40. 30.  5. 40. 40. 20.]\n",
            "--------------------------\n",
            "Sum of Working Huours of Seniors: 1917.0\n",
            "Length of Senior Citizens: 61\n",
            "Average working hours of Senior Citizens:  31.42622950819672\n"
          ]
        }
      ]
    },
    {
      "cell_type": "markdown",
      "source": [
        "**Step 6: Let's check that higher educated people have better pay in general.**"
      ],
      "metadata": {
        "id": "RFw3h1J4iuI1"
      }
    },
    {
      "cell_type": "code",
      "source": [
        "education_num = concatenated_data[:,1]\n",
        "print(\"EDUCATED PEOPLE : \" ,education_num)\n",
        "print(\"--------------------------\")\n",
        "high = education_num[education_num > 10]\n",
        "print(\"HIGH\", high)\n",
        "print(\"--------------------------\")\n",
        "low = education_num[education_num <= 10]\n",
        "print(\"LOW\", low)\n",
        "print(\"--------------------------\")\n",
        "a1 = concatenated_data[:, 7]\n",
        "high_income = a1[education_num > 10]\n",
        "print(\"avg_pay_high : \",high_income.mean())\n",
        "print(\"--------------------------\")\n",
        "low_income = a1[education_num <= 10]\n",
        "print(\"avg_pay_low : \",low_income.mean())"
      ],
      "metadata": {
        "colab": {
          "base_uri": "https://localhost:8080/"
        },
        "id": "7x6yOzqbVZXP",
        "outputId": "e14bd9a3-f0ce-4762-ab36-b97cb085869b"
      },
      "execution_count": 45,
      "outputs": [
        {
          "output_type": "stream",
          "name": "stdout",
          "text": [
            "EDUCATED PEOPLE :  [13. 13.  9. ... 10. 13.  9.]\n",
            "--------------------------\n",
            "HIGH [13. 13. 13. 14. 14. 13. 13. 13. 12. 11. 14. 16. 13. 12. 13. 12. 13. 13.\n",
            " 13. 14. 11. 11. 15. 13. 11. 13. 16. 13. 13. 12. 13. 14. 16. 11. 13. 16.\n",
            " 12. 14. 13. 14. 13. 15. 11. 13. 13. 13. 13. 12. 12. 13. 12. 14. 11. 11.\n",
            " 13. 13. 13. 14. 14. 12. 14. 11. 13. 13. 13. 13. 13. 14. 16. 13. 13. 14.\n",
            " 14. 14. 13. 13. 13. 12. 13. 13. 11. 15. 13. 14. 13. 12. 12. 15. 13. 11.\n",
            " 13. 13. 14. 14. 13. 12. 13. 14. 15. 13. 13. 13. 13. 13. 14. 13. 12. 12.\n",
            " 12. 13. 14. 13. 14. 11. 13. 11. 14. 12. 11. 13. 11. 12. 13. 13. 13. 13.\n",
            " 11. 14. 13. 13. 12. 13. 11. 14. 13. 12. 13. 13. 13. 13. 11. 14. 16. 13.\n",
            " 14. 14. 13. 12. 14. 13. 12. 11. 12. 13. 13. 14. 13. 11. 13. 12. 13. 13.\n",
            " 13. 12. 13. 13. 13. 11. 11. 11. 13. 13. 13. 14. 12. 15. 11. 13. 16. 11.\n",
            " 13. 13. 13. 14. 14. 11. 16. 13. 12. 13. 13. 13. 13. 13. 15. 13. 13. 12.\n",
            " 14. 14. 13. 13. 13. 15. 13. 11. 13. 13. 13. 13. 16. 16. 13. 16. 14. 14.\n",
            " 12. 13. 11. 13. 14. 13. 12. 14. 14. 13. 13. 13. 16. 13. 13. 13. 11. 13.\n",
            " 13. 13. 13. 13. 11. 11. 13. 13. 14. 11. 13. 13. 13. 13. 11. 13. 16. 13.\n",
            " 13. 11. 11. 14. 13. 11. 11. 13. 11. 13. 14. 13. 12. 14. 13. 13. 11. 11.\n",
            " 14. 11. 13. 13. 13. 13. 13. 13. 14. 11. 13. 16. 13. 13. 13. 13. 14. 13.\n",
            " 13. 11. 13. 13. 13. 11. 13. 11. 13. 15. 14. 13. 13. 12. 13. 13. 14. 14.\n",
            " 14. 15. 13. 12. 13. 14. 13. 12. 13. 13. 11. 13. 13. 14. 12. 11. 13. 11.\n",
            " 14. 13. 13.]\n",
            "--------------------------\n",
            "LOW [ 9.  7.  5.  9. 10.  4.  9.  9.  7.  9.  5.  7.  9.  9. 10.  9.  9. 10.\n",
            " 10. 10.  7. 10.  9. 10.  5.  9.  9.  9. 10.  9.  9. 10.  3.  9.  9.  4.\n",
            "  9. 10.  9. 10.  9. 10. 10. 10. 10. 10.  9.  6.  7.  4.  9.  9.  9.  9.\n",
            "  9.  9.  5. 10. 10.  9. 10. 10.  9. 10.  9.  9.  6.  7.  9.  9.  9. 10.\n",
            "  9.  5. 10. 10.  9. 10. 10. 10.  9. 10.  9.  9.  9. 10. 10.  9. 10. 10.\n",
            " 10.  9. 10.  9.  7. 10. 10.  9.  9.  9.  9. 10.  9.  2.  9.  9. 10.  7.\n",
            "  9.  9. 10.  9.  9.  9.  9. 10. 10. 10.  4. 10.  9. 10. 10. 10.  3. 10.\n",
            "  9.  9. 10.  9.  7.  9.  9.  7.  9.  9. 10.  9.  4.  6. 10.  2.  9.  9.\n",
            "  1.  9.  6.  9.  9.  7.  9. 10. 10.  9. 10.  9.  9. 10. 10.  9.  9.  9.\n",
            "  9.  6. 10. 10.  9.  9.  9.  4.  9.  7. 10.  7. 10. 10.  9.  9.  9.  5.\n",
            "  9.  9. 10. 10. 10. 10. 10.  9. 10.  4.  9. 10.  9.  9.  9. 10.  9.  9.\n",
            " 10.  9. 10. 10. 10. 10. 10.  3. 10.  9.  9. 10.  9.  7.  9. 10.  9.  9.\n",
            " 10.  6.  9.  3.  9.  9.  9.  9.  9. 10.  7.  9.  7.  9.  7.  9.  5.  6.\n",
            "  9.  9. 10.  9. 10.  7.  9.  9. 10.  9. 10.  9.  9.  3. 10. 10. 10.  9.\n",
            "  9. 10. 10.  9.  9.  9. 10. 10.  9. 10. 10.  4.  9.  9. 10. 10. 10.  9.\n",
            " 10. 10.  8.  2.  7.  7.  9. 10.  7.  9.  6.  9.  9.  9.  9.  7. 10.  9.\n",
            " 10. 10. 10.  9.  9. 10.  5. 10.  9.  9.  9.  7.  9. 10.  9.  9.  9. 10.\n",
            "  9. 10.  9.  2.  9.  9. 10. 10. 10.  9.  9.  5. 10.  6.  9. 10.  9.  8.\n",
            " 10.  2.  9.  9.  9.  9.  9. 10.  3. 10.  9.  9.  9. 10. 10. 10. 10.  9.\n",
            "  9.  3. 10.  9. 10. 10. 10.  9. 10. 10. 10. 10. 10.  9.  7.  9.  9.  8.\n",
            "  2.  9. 10. 10.  9. 10.  9.  6. 10.  9. 10. 10.  9.  7.  9.  7.  9.  9.\n",
            "  9.  7. 10.  9.  9.  4.  9.  9.  9.  7.  8. 10. 10.  9.  9.  9. 10. 10.\n",
            "  7.  6.  9.  9.  4.  9. 10. 10. 10.  4.  5.  9.  9.  9.  6.  9.  9.  9.\n",
            "  9.  9.  7.  5.  5.  9.  9.  9. 10. 10.  6. 10.  9.  9.  3.  9.  9. 10.\n",
            " 10. 10.  9.  9.  9. 10.  9. 10.  9. 10.  5.  9.  4.  9.  8. 10. 10. 10.\n",
            "  9.  7.  5. 10.  7.  7.  9.  9.  8. 10.  9.  9.  9.  9. 10.  7.  9.  4.\n",
            "  9. 10. 10. 10. 10.  9. 10. 10.  8. 10.  9.  7. 10.  9.  9.  9. 10.  9.\n",
            "  9.  9.  9. 10.  9.  7. 10. 10. 10. 10. 10.  9. 10.  9.  8.  9. 10.  7.\n",
            "  6.  9.  9.  9.  9.  9.  9.  9.  9.  6. 10. 10.  9. 10.  3.  9.  9. 10.\n",
            " 10. 10. 10. 10.  9.  8.  9.  9. 10.  9.  9. 10.  9.  9.  9.  7.  9.  7.\n",
            "  9.  9.  9. 10. 10. 10.  6.  9. 10.  9.  9.  9.  9.  9.  9.  9. 10.  7.\n",
            " 10. 10.  9.  7.  9.  9.  9.  7. 10. 10.  9. 10.  9.  9.  9.  9.  9.  9.\n",
            "  7.  9.  7. 10.  9. 10.  6.  7. 10. 10.  3.  9.  9.  9.  5.  9. 10. 10.\n",
            " 10.  9. 10. 10.  9.  4.  5.  9.  9.  9. 10.  9. 10.  9. 10.  6. 10.  9.\n",
            "  9.  9. 10. 10. 10.  3. 10.  9.  9.  9. 10.  2.  9. 10.  1.  9.  7.  9.\n",
            "  9.  9.  9.  9.  9. 10. 10. 10. 10.  9.  4.  9. 10.  6. 10.  6. 10.  9.\n",
            "  6.  9.  9. 10.  9.  9.  9.  9. 10. 10.  9.  9.  9.  9.  9.  9.  9.  9.\n",
            "  9. 10.  9.  9.  9.  9. 10.  9.]\n",
            "--------------------------\n",
            "avg_pay_high :  0.42813455657492355\n",
            "--------------------------\n",
            "avg_pay_low :  0.13649851632047477\n"
          ]
        }
      ]
    },
    {
      "cell_type": "code",
      "source": [
        ""
      ],
      "metadata": {
        "id": "hY03bSGikJes"
      },
      "execution_count": 37,
      "outputs": []
    }
  ]
}